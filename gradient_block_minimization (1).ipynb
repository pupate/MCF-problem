{
  "nbformat": 4,
  "nbformat_minor": 0,
  "metadata": {
    "colab": {
      "provenance": []
    },
    "kernelspec": {
      "name": "python3",
      "display_name": "Python 3"
    },
    "language_info": {
      "name": "python"
    }
  },
  "cells": [
    {
      "cell_type": "code",
      "execution_count": null,
      "metadata": {
        "id": "hZReU4xPyPvH"
      },
      "outputs": [],
      "source": [
        "import numpy as np\n",
        "import math"
      ]
    },
    {
      "cell_type": "code",
      "source": [
        "l = 1"
      ],
      "metadata": {
        "id": "eI1ASCXUP5TU"
      },
      "execution_count": null,
      "outputs": []
    },
    {
      "cell_type": "code",
      "source": [
        "def expwts(X):\n",
        "    for i in range(len(X)):\n",
        "      if math.isnan(X[i]):\n",
        "        X[i]=0\n",
        "\n",
        "    S = sum([math.exp(X[i]) for i in range(len(X))])\n",
        "    return np.array([[math.exp(X[i])/S] for i in range(len(X))])\n",
        "\n",
        "def srect(b,x):\n",
        "    if x<=0:\n",
        "        return 0\n",
        "    if 0<b<x:\n",
        "        return b*b/(2*x)\n",
        "    else:\n",
        "        return b-x/2\n",
        "\n",
        "def chop(a,b):\n",
        "    if b ==0:\n",
        "        return 0\n",
        "    else:\n",
        "        return max(0,min(1,a/b))\n",
        "\n",
        "def Xlogx(t):\n",
        "    if t<= 0 :\n",
        "        return 0\n",
        "    else:\n",
        "        return t*np.log(t)\n",
        "\n",
        "\n",
        "\n",
        "def max_X(w, Y, A, a):\n",
        "    w_1 = A.T@w\n",
        "    Z = a*Y*Y/(2*w)\n",
        "    Z_1 = A.T@Z\n",
        "    X = np.array([expwts(-Z_1[i]/(3*a*w_1[i][0])).reshape((len(Z_1[i]))) for i in range(len(Z_1)-len(Z_1[0]))])\n",
        "    return X\n",
        "\n",
        "def max_wY(B,X,A,a,b):\n",
        "    n = len(B)\n",
        "    m = len(X)\n",
        "    k = len(B[0])\n",
        "    X_1 = A@X\n",
        "    S = np.array([[sum([Xlogx(X[e][j]) for j in range(k)])] for e in range(m)])\n",
        "    S_1 = A@S\n",
        "    b_1 = np.array([[sum([srect(B[v][j],a*X_1[v][j]) for j in range(k)])] for v in range(n)])\n",
        "    w = expwts((b_1-3*a*S_1)/(a*b))\n",
        "    Y = np.array([[w[v][0]*chop(B[v][j],a*X_1[v][j]) for j in range(k)]for v in range(n)])\n",
        "    return w,Y"
      ],
      "metadata": {
        "id": "iKyRjOwJyTeB"
      },
      "execution_count": null,
      "outputs": []
    },
    {
      "cell_type": "code",
      "source": [
        "\n",
        "\n",
        "def Minimizer(B,A,epsilon):\n",
        "    a = 18\n",
        "    b = 27*(2+np.log(len(B[0])))\n",
        "    X = np.ones((len(A[0]) -len(B[0]),len(B[0])))/len(B[0])\n",
        "    for i in range(int(20*np.log(2/epsilon))):\n",
        "        X = np.vstack([X,np.eye(len(B[0]))])\n",
        "        w,Y = max_wY(B,X,A,a,b)\n",
        "        X = max_X(w,Y,A,a)\n",
        "    X = np.vstack([X,np.eye(len(B[0]))])\n",
        "    return w,Y,X"
      ],
      "metadata": {
        "id": "XHn6XXsrqy27"
      },
      "execution_count": null,
      "outputs": []
    },
    {
      "cell_type": "code",
      "source": [
        "def final(D,B,epsilon):\n",
        "    C = np.eye(len(D[0]))\n",
        "    B_1 = np.hstack([-B, B])\n",
        "    B_final = np.hstack([B_1,np.zeros((len(B),1))])\n",
        "    A_final = np.hstack([-D,D])\n",
        "    A = np.hstack([A_final,B_final])\n",
        "    print(A)\n",
        "    n = len(A_final)\n",
        "    k = len(B_final[0])\n",
        "    m = len(A_final[0])\n",
        "    print(n,m,k)\n",
        "    A_pos = abs(A)\n",
        "    t = int(10*np.log(n)*(np.log(2+k))**2)\n",
        "    w = np.ones((n,1))/n\n",
        "    Y = np.zeros((n,k))\n",
        "    X = np.ones((m,k))/m\n",
        "    X = np.vstack([X,np.eye(k)])\n",
        "    for i in range(t):\n",
        "      Jz_w,Jz_y,Jz_x = np.zeros((n,1)),A@X,-A.T@Y\n",
        "      w_1,Y_1,X_1 = Minimizer(Jz_y,A_pos,epsilon)\n",
        "      w_2,Y_2,X_2 = np.zeros((n,1)), 2*A@X_1, -2*A.T@Y_1\n",
        "      S = Minimizer(Jz_y+Y_2,A_pos,epsilon)\n",
        "      #print(S[0],S[1],S[2])\n",
        "      w+=S[0]\n",
        "      Y+=S[1]\n",
        "      X+=S[2]\n",
        "    return w/t,Y/t,X/t\n",
        "\n",
        "\n"
      ],
      "metadata": {
        "id": "5-D4vk2pB9eZ"
      },
      "execution_count": null,
      "outputs": []
    },
    {
      "cell_type": "code",
      "source": [
        "D = np.array([[1,1,0,0],[-1,0,-1,0],[0,0,1,1],[0,-1,0,-1]])\n",
        "B = np.array([[1,0],[-1,0],[0,1],[0,-1]])\n",
        "final(D,B,0.01)"
      ],
      "metadata": {
        "colab": {
          "base_uri": "https://localhost:8080/"
        },
        "id": "5qU1D0cqDGJ_",
        "outputId": "bb3073aa-13d1-40f3-8865-523ef2ddd45d"
      },
      "execution_count": null,
      "outputs": [
        {
          "output_type": "stream",
          "name": "stdout",
          "text": [
            "[[-1. -1.  0.  0.  1.  1.  0.  0. -1.  0.  1.  0.  0.]\n",
            " [ 1.  0.  1.  0. -1.  0. -1.  0.  1.  0. -1.  0.  0.]\n",
            " [ 0.  0. -1. -1.  0.  0.  1.  1.  0. -1.  0.  1.  0.]\n",
            " [ 0.  1.  0.  1.  0. -1.  0. -1.  0.  1.  0. -1.  0.]]\n",
            "4 8 5\n"
          ]
        },
        {
          "output_type": "stream",
          "name": "stderr",
          "text": [
            "<ipython-input-3-8d931aa675cf>:3: DeprecationWarning: Conversion of an array with ndim > 0 to a scalar is deprecated, and will error in future. Ensure you extract a single element from your array before performing this operation. (Deprecated NumPy 1.25.)\n",
            "  if math.isnan(X[i]):\n",
            "<ipython-input-3-8d931aa675cf>:6: DeprecationWarning: Conversion of an array with ndim > 0 to a scalar is deprecated, and will error in future. Ensure you extract a single element from your array before performing this operation. (Deprecated NumPy 1.25.)\n",
            "  S = sum([math.exp(X[i]) for i in range(len(X))])\n",
            "<ipython-input-3-8d931aa675cf>:7: DeprecationWarning: Conversion of an array with ndim > 0 to a scalar is deprecated, and will error in future. Ensure you extract a single element from your array before performing this operation. (Deprecated NumPy 1.25.)\n",
            "  return np.array([[math.exp(X[i])/S] for i in range(len(X))])\n"
          ]
        },
        {
          "output_type": "execute_result",
          "data": {
            "text/plain": [
              "(array([[0.2548192 ],\n",
              "        [0.25489672],\n",
              "        [0.25461719],\n",
              "        [0.25489765]]),\n",
              " array([[0.00000000e+00, 3.79689452e-18, 1.84584411e-01, 1.72842200e-18,\n",
              "         1.72842200e-18],\n",
              "        [1.84588075e-01, 1.73076992e-18, 0.00000000e+00, 3.79432431e-18,\n",
              "         1.73076992e-18],\n",
              "        [3.38346094e-18, 0.00000000e+00, 5.60222312e-19, 1.84383675e-01,\n",
              "         5.60222312e-19],\n",
              "        [2.32441611e-18, 1.84578132e-01, 4.56440192e-18, 0.00000000e+00,\n",
              "         2.32441611e-18]]),\n",
              " array([[0.19607267, 0.20662496, 0.19607167, 0.20662496, 0.20662496],\n",
              "        [0.20662496, 0.19607318, 0.19607117, 0.20662496, 0.20662496],\n",
              "        [0.19606632, 0.20662496, 0.20662496, 0.19607802, 0.20662496],\n",
              "        [0.20662496, 0.19606683, 0.20662496, 0.19607752, 0.20662496],\n",
              "        [0.19607267, 0.20662496, 0.19607167, 0.20662496, 0.20662496],\n",
              "        [0.20662496, 0.19607318, 0.19607117, 0.20662496, 0.20662496],\n",
              "        [0.19606632, 0.20662496, 0.20662496, 0.19607802, 0.20662496],\n",
              "        [0.20662496, 0.19606683, 0.20662496, 0.19607752, 0.20662496],\n",
              "        [1.01923077, 0.        , 0.        , 0.        , 0.        ],\n",
              "        [0.        , 1.01923077, 0.        , 0.        , 0.        ],\n",
              "        [0.        , 0.        , 1.01923077, 0.        , 0.        ],\n",
              "        [0.        , 0.        , 0.        , 1.01923077, 0.        ],\n",
              "        [0.        , 0.        , 0.        , 0.        , 1.01923077]]))"
            ]
          },
          "metadata": {},
          "execution_count": 38
        }
      ]
    }
  ]
}